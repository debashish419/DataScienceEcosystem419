{
 "cells": [
  {
   "cell_type": "markdown",
   "id": "be44d3a7-f6b9-435c-a424-d5cf4cd212ce",
   "metadata": {},
   "source": [
    "# Data Science Tools and Ecosystem"
   ]
  },
  {
   "cell_type": "markdown",
   "id": "4db91d43-8214-4b86-a9a0-e11775e48120",
   "metadata": {},
   "source": [
    "## In this notebook, Data Science Tools and Ecosystem are summarized."
   ]
  },
  {
   "cell_type": "markdown",
   "id": "fd7f2b2a-011b-41d9-89ec-c1a5b54555aa",
   "metadata": {},
   "source": [
    "### Some of the popular languages that Data Scientists use are:\n",
    "1. Python\n",
    "2. R\n",
    "3. Scala"
   ]
  },
  {
   "cell_type": "markdown",
   "id": "29b5454e-703d-4ee2-bff2-46aecf4ce09f",
   "metadata": {},
   "source": [
    "#### Some of the commonly used libraries used by Data Scientists include:\n",
    "1.TensorFlow\n",
    "2.Pandas\n",
    "3.Keras\n"
   ]
  },
  {
   "cell_type": "markdown",
   "id": "605ad89a-1ec8-4594-9dc6-860eb5e4361a",
   "metadata": {},
   "source": [
    "##### Data Science Tools\n",
    "1.Jupyter Notebook\n",
    "2.RStudio\n",
    "3.Jupyter Lap"
   ]
  },
  {
   "cell_type": "markdown",
   "id": "7203158a-1a0a-4a50-85b7-15878f2241af",
   "metadata": {},
   "source": [
    "### Below are a few examples of evaluating arithmetic expressions in Python\n",
    "1.+\n",
    "2.-\n",
    "3.*"
   ]
  },
  {
   "cell_type": "code",
   "execution_count": null,
   "id": "22ac5086-7bdb-476d-96d1-9d2555e451ad",
   "metadata": {},
   "outputs": [],
   "source": []
  }
 ],
 "metadata": {
  "kernelspec": {
   "display_name": "Python",
   "language": "python",
   "name": "conda-env-python-py"
  },
  "language_info": {
   "codemirror_mode": {
    "name": "ipython",
    "version": 3
   },
   "file_extension": ".py",
   "mimetype": "text/x-python",
   "name": "python",
   "nbconvert_exporter": "python",
   "pygments_lexer": "ipython3",
   "version": "3.7.12"
  }
 },
 "nbformat": 4,
 "nbformat_minor": 5
}
